{
  "nbformat": 4,
  "nbformat_minor": 0,
  "metadata": {
    "colab": {
      "name": "Ankit_Raj.ipynb",
      "provenance": []
    },
    "kernelspec": {
      "name": "python3",
      "display_name": "Python 3"
    },
    "language_info": {
      "name": "python"
    }
  },
  "cells": [
    {
      "cell_type": "code",
      "metadata": {
        "colab": {
          "base_uri": "https://localhost:8080/"
        },
        "id": "hgKl5A4jv02z",
        "outputId": "0c6945cb-39e0-4e84-8b7f-14794183575a"
      },
      "source": [
        "import requests\n",
        "import sys\n",
        "from datetime import datetime\n",
        "\n",
        "api_key = '6bb536f23c6cd4eb723d1b0371124c19'                                              \n",
        "location = input(\"Enter the city name: \")\n",
        "\n",
        "complete_api_link = \"https://api.openweathermap.org/data/2.5/weather?q=\"+location+\"&appid=\"+api_key\n",
        "api_link = requests.get(complete_api_link)\n",
        "api_data = api_link.json()\n",
        "\n",
        "\n",
        "temp_city = ((api_data['main']['temp']) - 273.15)                                          \n",
        "weather_desc = api_data['weather'][0]['description']\n",
        "cnt  = api_data['sys']['country']\n",
        "hmdt = api_data['main']['humidity']\n",
        "wind_spd = api_data['wind']['speed']\n",
        "date_time = datetime.now().strftime(\"%d %b %Y | %I:%M:%S %p\")\n",
        "\n",
        "with open('output.txt', 'w') as f:\n",
        "\n",
        "    f.writelines(\"\\n\"+\"----------------BY ANKIT RAJ------------------\"+\"\\n\")       \n",
        "    f.writelines(\"Weather Stats for - {}  || {}\".format(location.upper(), date_time)+\"\\n\")\n",
        "    f.writelines((\"Country   :  \"+cnt)+\"\\n\")\n",
        "    f.writelines(\"-------------------------------------------------------------\"+\"\\n\")\n",
        "    f.writelines(\"Current temperature is: {:.2f} deg C\".format(temp_city)+\"\\n\")\n",
        "    f.writelines(\"Current weather desc  : \"+weather_desc+\"\\n\")\n",
        "    f.writelines(\"Current Humidity      : \"+str(hmdt)+ ' %'+\"\\n\")\n",
        "    f.writelines(\"Current wind speed    : \"+str(wind_spd) +' m/s'+\"\\n\")\n",
        "    f.close()\n",
        "    print(open('output.txt').read())"
      ],
      "execution_count": 4,
      "outputs": [
        {
          "output_type": "stream",
          "text": [
            "Enter the city name: DHANBAD\n",
            "\n",
            "----------------BY ANKIT RAJ------------------\n",
            "Weather Stats for - DHANBAD  || 22 Jun 2021 | 08:06:31 AM\n",
            "Country   :  IN\n",
            "-------------------------------------------------------------\n",
            "Current temperature is: 33.75 deg C\n",
            "Current weather desc  : broken clouds\n",
            "Current Humidity      : 50 %\n",
            "Current wind speed    : 3.74 m/s\n",
            "\n"
          ],
          "name": "stdout"
        }
      ]
    }
  ]
}